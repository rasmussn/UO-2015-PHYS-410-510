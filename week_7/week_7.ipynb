{
 "cells": [
  {
   "cell_type": "code",
   "execution_count": null,
   "metadata": {
    "collapsed": true
   },
   "outputs": [],
   "source": [
    "import numpy as np"
   ]
  },
  {
   "cell_type": "markdown",
   "metadata": {},
   "source": [
    "Count number of lines in the file:"
   ]
  },
  {
   "cell_type": "code",
   "execution_count": 56,
   "metadata": {
    "collapsed": false
   },
   "outputs": [
    {
     "name": "stdout",
     "output_type": "stream",
     "text": [
      "163\n"
     ]
    }
   ],
   "source": [
    "count = 0\n",
    "for line in open(\"hw2.csv\", \"r\"):\n",
    "    count = count + 1\n",
    "\n",
    "print(count)\n"
   ]
  },
  {
   "cell_type": "markdown",
   "metadata": {},
   "source": [
    "Store first decade"
   ]
  },
  {
   "cell_type": "code",
   "execution_count": 25,
   "metadata": {
    "collapsed": false
   },
   "outputs": [
    {
     "data": {
      "text/plain": [
       "numpy.ndarray"
      ]
     },
     "execution_count": 25,
     "metadata": {},
     "output_type": "execute_result"
    }
   ],
   "source": []
  },
  {
   "cell_type": "code",
   "execution_count": 75,
   "metadata": {
    "collapsed": false
   },
   "outputs": [
    {
     "name": "stdout",
     "output_type": "stream",
     "text": [
      "year = 1850  T =  57.7 ]]  :0\n",
      "year = 1851  T =  58.0 ]]  :1\n",
      "year = 1852  T =  58.0 ]]  :2\n",
      "year = 1853  T =  57.9 ]]  :3\n",
      "year = 1854  T =  57.9 ]]  :4\n",
      "year = 1855  T =  57.9 ]]  :5\n",
      "year = 1856  T =  57.8 ]]  :6\n",
      "year = 1857  T =  57.6 ]]  :7\n",
      "year = 1858  T =  57.6 ]]  :8\n",
      "year = 1859  T =  57.9 ]]  :9\n",
      "\n",
      "mean = 58.339877  std dev = 0.686285\n"
     ]
    }
   ],
   "source": [
    "count = 163\n",
    "year = np.zeros((count), dtype=np.int)\n",
    "temp = np.zeros((count), dtype=np.float)\n",
    "\n",
    "i = 0\n",
    "for line in open(\"hw2.csv\", \"r\"):\n",
    "    words = line.split(\",\")\n",
    "    year[i] = np.int(words[2])\n",
    "    temp[i] = np.float(words[3])\n",
    "    i = i + 1\n",
    "    \n",
    "num_decade = 0\n",
    "for i in np.arange(count):\n",
    "    if (year[i] < 1860):\n",
    "       num_decade = num_decade + 1\n",
    "       print(\"year = %d  T = %5.1f ]]  :%d\") % (year[i], temp[i], i)\n",
    "\n",
    "print (\"\\nmean = %f  std dev = %f\") % (np.mean(temp[0:count]), np.std(temp[0:count]))\n"
   ]
  },
  {
   "cell_type": "code",
   "execution_count": 2,
   "metadata": {
    "collapsed": true
   },
   "outputs": [],
   "source": [
    "import numpy as np\n"
   ]
  },
  {
   "cell_type": "code",
   "execution_count": null,
   "metadata": {
    "collapsed": true
   },
   "outputs": [],
   "source": []
  }
 ],
 "metadata": {
  "kernelspec": {
   "display_name": "Python 2",
   "language": "python",
   "name": "python2"
  },
  "language_info": {
   "codemirror_mode": {
    "name": "ipython",
    "version": 2
   },
   "file_extension": ".py",
   "mimetype": "text/x-python",
   "name": "python",
   "nbconvert_exporter": "python",
   "pygments_lexer": "ipython2",
   "version": "2.7.9"
  }
 },
 "nbformat": 4,
 "nbformat_minor": 0
}
